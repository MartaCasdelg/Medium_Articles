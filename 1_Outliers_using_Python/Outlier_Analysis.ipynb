{
 "cells": [
  {
   "cell_type": "markdown",
   "metadata": {},
   "source": [
    "# How to find and treat outliers using Python\n",
    "\n",
    "In this notebook I will develop different techniques to detect and treat outliers in order to create examples for the following article published on Medium."
   ]
  },
  {
   "cell_type": "code",
   "execution_count": 2,
   "metadata": {},
   "outputs": [],
   "source": [
    "# Import libraries\n",
    "import numpy as np\n",
    "import pandas as pd\n",
    "import matplotlib.pyplot as plt"
   ]
  },
  {
   "cell_type": "markdown",
   "metadata": {},
   "source": [
    "## Dataset"
   ]
  },
  {
   "cell_type": "markdown",
   "metadata": {},
   "source": [
    "In this occasion I will use the 'tips' dataset that comes with the Seaborn library."
   ]
  },
  {
   "cell_type": "code",
   "execution_count": 3,
   "metadata": {},
   "outputs": [
    {
     "data": {
      "text/html": [
       "<div>\n",
       "<style scoped>\n",
       "    .dataframe tbody tr th:only-of-type {\n",
       "        vertical-align: middle;\n",
       "    }\n",
       "\n",
       "    .dataframe tbody tr th {\n",
       "        vertical-align: top;\n",
       "    }\n",
       "\n",
       "    .dataframe thead th {\n",
       "        text-align: right;\n",
       "    }\n",
       "</style>\n",
       "<table border=\"1\" class=\"dataframe\">\n",
       "  <thead>\n",
       "    <tr style=\"text-align: right;\">\n",
       "      <th></th>\n",
       "      <th>pickup</th>\n",
       "      <th>dropoff</th>\n",
       "      <th>passengers</th>\n",
       "      <th>distance</th>\n",
       "      <th>fare</th>\n",
       "      <th>tip</th>\n",
       "      <th>tolls</th>\n",
       "      <th>total</th>\n",
       "      <th>color</th>\n",
       "      <th>payment</th>\n",
       "      <th>pickup_zone</th>\n",
       "      <th>dropoff_zone</th>\n",
       "      <th>pickup_borough</th>\n",
       "      <th>dropoff_borough</th>\n",
       "    </tr>\n",
       "  </thead>\n",
       "  <tbody>\n",
       "    <tr>\n",
       "      <th>0</th>\n",
       "      <td>2019-03-23 20:21:09</td>\n",
       "      <td>2019-03-23 20:27:24</td>\n",
       "      <td>1</td>\n",
       "      <td>1.60</td>\n",
       "      <td>7.0</td>\n",
       "      <td>2.15</td>\n",
       "      <td>0.0</td>\n",
       "      <td>12.95</td>\n",
       "      <td>yellow</td>\n",
       "      <td>credit card</td>\n",
       "      <td>Lenox Hill West</td>\n",
       "      <td>UN/Turtle Bay South</td>\n",
       "      <td>Manhattan</td>\n",
       "      <td>Manhattan</td>\n",
       "    </tr>\n",
       "    <tr>\n",
       "      <th>1</th>\n",
       "      <td>2019-03-04 16:11:55</td>\n",
       "      <td>2019-03-04 16:19:00</td>\n",
       "      <td>1</td>\n",
       "      <td>0.79</td>\n",
       "      <td>5.0</td>\n",
       "      <td>0.00</td>\n",
       "      <td>0.0</td>\n",
       "      <td>9.30</td>\n",
       "      <td>yellow</td>\n",
       "      <td>cash</td>\n",
       "      <td>Upper West Side South</td>\n",
       "      <td>Upper West Side South</td>\n",
       "      <td>Manhattan</td>\n",
       "      <td>Manhattan</td>\n",
       "    </tr>\n",
       "    <tr>\n",
       "      <th>2</th>\n",
       "      <td>2019-03-27 17:53:01</td>\n",
       "      <td>2019-03-27 18:00:25</td>\n",
       "      <td>1</td>\n",
       "      <td>1.37</td>\n",
       "      <td>7.5</td>\n",
       "      <td>2.36</td>\n",
       "      <td>0.0</td>\n",
       "      <td>14.16</td>\n",
       "      <td>yellow</td>\n",
       "      <td>credit card</td>\n",
       "      <td>Alphabet City</td>\n",
       "      <td>West Village</td>\n",
       "      <td>Manhattan</td>\n",
       "      <td>Manhattan</td>\n",
       "    </tr>\n",
       "    <tr>\n",
       "      <th>3</th>\n",
       "      <td>2019-03-10 01:23:59</td>\n",
       "      <td>2019-03-10 01:49:51</td>\n",
       "      <td>1</td>\n",
       "      <td>7.70</td>\n",
       "      <td>27.0</td>\n",
       "      <td>6.15</td>\n",
       "      <td>0.0</td>\n",
       "      <td>36.95</td>\n",
       "      <td>yellow</td>\n",
       "      <td>credit card</td>\n",
       "      <td>Hudson Sq</td>\n",
       "      <td>Yorkville West</td>\n",
       "      <td>Manhattan</td>\n",
       "      <td>Manhattan</td>\n",
       "    </tr>\n",
       "    <tr>\n",
       "      <th>4</th>\n",
       "      <td>2019-03-30 13:27:42</td>\n",
       "      <td>2019-03-30 13:37:14</td>\n",
       "      <td>3</td>\n",
       "      <td>2.16</td>\n",
       "      <td>9.0</td>\n",
       "      <td>1.10</td>\n",
       "      <td>0.0</td>\n",
       "      <td>13.40</td>\n",
       "      <td>yellow</td>\n",
       "      <td>credit card</td>\n",
       "      <td>Midtown East</td>\n",
       "      <td>Yorkville West</td>\n",
       "      <td>Manhattan</td>\n",
       "      <td>Manhattan</td>\n",
       "    </tr>\n",
       "  </tbody>\n",
       "</table>\n",
       "</div>"
      ],
      "text/plain": [
       "               pickup             dropoff  passengers  distance  fare   tip  \\\n",
       "0 2019-03-23 20:21:09 2019-03-23 20:27:24           1      1.60   7.0  2.15   \n",
       "1 2019-03-04 16:11:55 2019-03-04 16:19:00           1      0.79   5.0  0.00   \n",
       "2 2019-03-27 17:53:01 2019-03-27 18:00:25           1      1.37   7.5  2.36   \n",
       "3 2019-03-10 01:23:59 2019-03-10 01:49:51           1      7.70  27.0  6.15   \n",
       "4 2019-03-30 13:27:42 2019-03-30 13:37:14           3      2.16   9.0  1.10   \n",
       "\n",
       "   tolls  total   color      payment            pickup_zone  \\\n",
       "0    0.0  12.95  yellow  credit card        Lenox Hill West   \n",
       "1    0.0   9.30  yellow         cash  Upper West Side South   \n",
       "2    0.0  14.16  yellow  credit card          Alphabet City   \n",
       "3    0.0  36.95  yellow  credit card              Hudson Sq   \n",
       "4    0.0  13.40  yellow  credit card           Midtown East   \n",
       "\n",
       "            dropoff_zone pickup_borough dropoff_borough  \n",
       "0    UN/Turtle Bay South      Manhattan       Manhattan  \n",
       "1  Upper West Side South      Manhattan       Manhattan  \n",
       "2           West Village      Manhattan       Manhattan  \n",
       "3         Yorkville West      Manhattan       Manhattan  \n",
       "4         Yorkville West      Manhattan       Manhattan  "
      ]
     },
     "execution_count": 3,
     "metadata": {},
     "output_type": "execute_result"
    }
   ],
   "source": [
    "# Import seaborn \n",
    "import seaborn as sns\n",
    "\n",
    "# Load tips dataset\n",
    "taxis = sns.load_dataset('taxis')\n",
    "taxis.head()"
   ]
  },
  {
   "cell_type": "markdown",
   "metadata": {},
   "source": [
    "## Univariate Outlier Detection"
   ]
  },
  {
   "cell_type": "markdown",
   "metadata": {},
   "source": [
    "There are several techniques to identify outliers in a dataset, including visual inspection methods, statistical methods and even machine learning models such as the Local Outlier Factor (LOF), the Isolation Forest or the KNN algorithm.\n",
    "However, for the case of univariate outliers, we can use statistical and visual inspection methods. In this article, I will explain the following:\n",
    "\n",
    "* Histograms.\n",
    "* Box plots.\n",
    "* Z-score.\n",
    "* Modified Z-score.\n",
    "* Interquantile Range (IQR).\n",
    "\n",
    "As a preliminary step, it is highly recommendable to use the 'describe()' method to get a quick overview of the data distribution and detect the presence of outliers in the dataset. In order to do this, we will look for noticeable differences between the minimum, mean and maximum values of the target variable. In this case, we will use the variable 'total', which indicates the total price of the taxi-ride."
   ]
  },
  {
   "cell_type": "code",
   "execution_count": 4,
   "metadata": {},
   "outputs": [
    {
     "data": {
      "text/plain": [
       "count    6433.000000\n",
       "mean       18.517794\n",
       "std        13.815570\n",
       "min         1.300000\n",
       "25%        10.800000\n",
       "50%        14.160000\n",
       "75%        20.300000\n",
       "max       174.820000\n",
       "Name: total, dtype: float64"
      ]
     },
     "execution_count": 4,
     "metadata": {},
     "output_type": "execute_result"
    }
   ],
   "source": [
    "taxis['total'].describe()"
   ]
  },
  {
   "cell_type": "markdown",
   "metadata": {},
   "source": [
    "The values are 1.3, 18.52 and 174.82 for the minimum, mean and maximum, respectively. The difference between the minimum and the maximum, and between the mean and the maximum value suggest that there may be outliers in the dataset. To confirm this suspicion we can use any of the following methods."
   ]
  },
  {
   "cell_type": "markdown",
   "metadata": {},
   "source": [
    "### Histogram"
   ]
  },
  {
   "cell_type": "code",
   "execution_count": 5,
   "metadata": {},
   "outputs": [],
   "source": [
    "# Set an style for all charts\n",
    "sns.set_style('darkgrid')"
   ]
  },
  {
   "cell_type": "code",
   "execution_count": 6,
   "metadata": {},
   "outputs": [
    {
     "data": {
      "text/plain": [
       "Text(0.5, 0, 'Total paid per trip')"
      ]
     },
     "execution_count": 6,
     "metadata": {},
     "output_type": "execute_result"
    },
    {
     "data": {
      "image/png": "[encoded data removed]",
      "text/plain": [
       "<Figure size 640x480 with 1 Axes>"
      ]
     },
     "metadata": {},
     "output_type": "display_data"
    }
   ],
   "source": [
    "# Create a histogram using Seaborn\n",
    "g = sns.histplot(data = taxis, x = 'total')\n",
    "\n",
    "# Add labels\n",
    "g.set_title('Histogram of Total')\n",
    "g.set_xlabel('Total paid per trip')"
   ]
  },
  {
   "cell_type": "markdown",
   "metadata": {},
   "source": [
    "## Box plot"
   ]
  },
  {
   "cell_type": "code",
   "execution_count": 7,
   "metadata": {},
   "outputs": [
    {
     "data": {
      "text/plain": [
       "Text(0.5, 0, 'Total paid per trip')"
      ]
     },
     "execution_count": 7,
     "metadata": {},
     "output_type": "execute_result"
    },
    {
     "data": {
      "image/png": "[encoded data removed]",
      "text/plain": [
       "<Figure size 640x480 with 1 Axes>"
      ]
     },
     "metadata": {},
     "output_type": "display_data"
    }
   ],
   "source": [
    "# Create a box plot \n",
    "g = sns.boxplot(data = taxis, x = 'total')\n",
    "\n",
    "# Add a title and change xlabel\n",
    "g.set_title('Box Plot of Total')\n",
    "g.set_xlabel('Total paid per trip')"
   ]
  },
  {
   "cell_type": "markdown",
   "metadata": {},
   "source": [
    "## Z-score"
   ]
  },
  {
   "cell_type": "code",
   "execution_count": 8,
   "metadata": {},
   "outputs": [],
   "source": [
    "# Import zscore function\n",
    "from scipy.stats import zscore\n",
    "\n",
    "# Calculate z-score for each data point in the column and compute its absolute value\n",
    "z_scores = zscore(taxis['total'])\n",
    "abs_z_scores = np.abs(z_scores)\n",
    "\n",
    "# Select the outliers using a threshold of 3\n",
    "outliers = taxis[abs_z_scores > 3]"
   ]
  },
  {
   "cell_type": "code",
   "execution_count": 9,
   "metadata": {},
   "outputs": [
    {
     "data": {
      "text/html": [
       "<div>\n",
       "<style scoped>\n",
       "    .dataframe tbody tr th:only-of-type {\n",
       "        vertical-align: middle;\n",
       "    }\n",
       "\n",
       "    .dataframe tbody tr th {\n",
       "        vertical-align: top;\n",
       "    }\n",
       "\n",
       "    .dataframe thead th {\n",
       "        text-align: right;\n",
       "    }\n",
       "</style>\n",
       "<table border=\"1\" class=\"dataframe\">\n",
       "  <thead>\n",
       "    <tr style=\"text-align: right;\">\n",
       "      <th></th>\n",
       "      <th>pickup</th>\n",
       "      <th>dropoff</th>\n",
       "      <th>passengers</th>\n",
       "      <th>distance</th>\n",
       "      <th>fare</th>\n",
       "      <th>tip</th>\n",
       "      <th>tolls</th>\n",
       "      <th>total</th>\n",
       "      <th>color</th>\n",
       "      <th>payment</th>\n",
       "      <th>pickup_zone</th>\n",
       "      <th>dropoff_zone</th>\n",
       "      <th>pickup_borough</th>\n",
       "      <th>dropoff_borough</th>\n",
       "    </tr>\n",
       "  </thead>\n",
       "  <tbody>\n",
       "    <tr>\n",
       "      <th>42</th>\n",
       "      <td>2019-03-30 23:59:14</td>\n",
       "      <td>2019-03-30 23:59:17</td>\n",
       "      <td>1</td>\n",
       "      <td>0.00</td>\n",
       "      <td>80.0</td>\n",
       "      <td>20.08</td>\n",
       "      <td>0.00</td>\n",
       "      <td>100.38</td>\n",
       "      <td>yellow</td>\n",
       "      <td>credit card</td>\n",
       "      <td>NaN</td>\n",
       "      <td>NaN</td>\n",
       "      <td>NaN</td>\n",
       "      <td>NaN</td>\n",
       "    </tr>\n",
       "    <tr>\n",
       "      <th>56</th>\n",
       "      <td>2019-03-05 17:57:00</td>\n",
       "      <td>2019-03-05 18:45:25</td>\n",
       "      <td>2</td>\n",
       "      <td>19.59</td>\n",
       "      <td>52.0</td>\n",
       "      <td>0.00</td>\n",
       "      <td>5.76</td>\n",
       "      <td>65.56</td>\n",
       "      <td>yellow</td>\n",
       "      <td>credit card</td>\n",
       "      <td>JFK Airport</td>\n",
       "      <td>Upper East Side North</td>\n",
       "      <td>Queens</td>\n",
       "      <td>Manhattan</td>\n",
       "    </tr>\n",
       "    <tr>\n",
       "      <th>162</th>\n",
       "      <td>2019-03-06 17:36:48</td>\n",
       "      <td>2019-03-06 18:43:39</td>\n",
       "      <td>2</td>\n",
       "      <td>17.10</td>\n",
       "      <td>52.0</td>\n",
       "      <td>13.10</td>\n",
       "      <td>5.76</td>\n",
       "      <td>78.66</td>\n",
       "      <td>yellow</td>\n",
       "      <td>credit card</td>\n",
       "      <td>Midtown South</td>\n",
       "      <td>JFK Airport</td>\n",
       "      <td>Manhattan</td>\n",
       "      <td>Queens</td>\n",
       "    </tr>\n",
       "    <tr>\n",
       "      <th>188</th>\n",
       "      <td>2019-03-26 15:06:47</td>\n",
       "      <td>2019-03-26 15:59:52</td>\n",
       "      <td>1</td>\n",
       "      <td>18.41</td>\n",
       "      <td>52.0</td>\n",
       "      <td>0.02</td>\n",
       "      <td>5.76</td>\n",
       "      <td>61.08</td>\n",
       "      <td>yellow</td>\n",
       "      <td>credit card</td>\n",
       "      <td>JFK Airport</td>\n",
       "      <td>Midtown Center</td>\n",
       "      <td>Queens</td>\n",
       "      <td>Manhattan</td>\n",
       "    </tr>\n",
       "    <tr>\n",
       "      <th>225</th>\n",
       "      <td>2019-03-22 15:36:34</td>\n",
       "      <td>2019-03-22 16:34:48</td>\n",
       "      <td>2</td>\n",
       "      <td>12.07</td>\n",
       "      <td>48.5</td>\n",
       "      <td>11.51</td>\n",
       "      <td>5.76</td>\n",
       "      <td>69.07</td>\n",
       "      <td>yellow</td>\n",
       "      <td>credit card</td>\n",
       "      <td>Manhattan Valley</td>\n",
       "      <td>Boerum Hill</td>\n",
       "      <td>Manhattan</td>\n",
       "      <td>Brooklyn</td>\n",
       "    </tr>\n",
       "  </tbody>\n",
       "</table>\n",
       "</div>"
      ],
      "text/plain": [
       "                 pickup             dropoff  passengers  distance  fare  \\\n",
       "42  2019-03-30 23:59:14 2019-03-30 23:59:17           1      0.00  80.0   \n",
       "56  2019-03-05 17:57:00 2019-03-05 18:45:25           2     19.59  52.0   \n",
       "162 2019-03-06 17:36:48 2019-03-06 18:43:39           2     17.10  52.0   \n",
       "188 2019-03-26 15:06:47 2019-03-26 15:59:52           1     18.41  52.0   \n",
       "225 2019-03-22 15:36:34 2019-03-22 16:34:48           2     12.07  48.5   \n",
       "\n",
       "       tip  tolls   total   color      payment       pickup_zone  \\\n",
       "42   20.08   0.00  100.38  yellow  credit card               NaN   \n",
       "56    0.00   5.76   65.56  yellow  credit card       JFK Airport   \n",
       "162  13.10   5.76   78.66  yellow  credit card     Midtown South   \n",
       "188   0.02   5.76   61.08  yellow  credit card       JFK Airport   \n",
       "225  11.51   5.76   69.07  yellow  credit card  Manhattan Valley   \n",
       "\n",
       "              dropoff_zone pickup_borough dropoff_borough  \n",
       "42                     NaN            NaN             NaN  \n",
       "56   Upper East Side North         Queens       Manhattan  \n",
       "162            JFK Airport      Manhattan          Queens  \n",
       "188         Midtown Center         Queens       Manhattan  \n",
       "225            Boerum Hill      Manhattan        Brooklyn  "
      ]
     },
     "execution_count": 9,
     "metadata": {},
     "output_type": "execute_result"
    }
   ],
   "source": [
    "# Show result\n",
    "outliers.head()"
   ]
  },
  {
   "cell_type": "code",
   "execution_count": 10,
   "metadata": {},
   "outputs": [
    {
     "name": "stdout",
     "output_type": "stream",
     "text": [
      "Number of outliers: 185\n"
     ]
    }
   ],
   "source": [
    "# Obtain number of outliers\n",
    "print(f'Number of outliers: {len(outliers)}')"
   ]
  },
  {
   "cell_type": "markdown",
   "metadata": {},
   "source": [
    "## Modified Z-score"
   ]
  },
  {
   "cell_type": "markdown",
   "metadata": {},
   "source": [
    "![IMG](https://github.com/MartaCasdelg/Private_Medium_Articles/blob/main/1_Outliers_using_Python/Images/z-score-modified_ENG.png)"
   ]
  },
  {
   "cell_type": "markdown",
   "metadata": {},
   "source": [
    "The scipy function median_abs_deviation allows us to calculate the absolute deviation of the median (MAD), which we can then insert into the formula to obtain the modified z-score for each data point."
   ]
  },
  {
   "cell_type": "code",
   "execution_count": 11,
   "metadata": {},
   "outputs": [
    {
     "data": {
      "text/plain": [
       "4.199999999999999"
      ]
     },
     "execution_count": 11,
     "metadata": {},
     "output_type": "execute_result"
    }
   ],
   "source": [
    "# Import the median_abs_deviation function\n",
    "from scipy.stats import median_abs_deviation\n",
    "\n",
    "# Obtain the MAD value \n",
    "mad_score = median_abs_deviation(taxis['total'])\n",
    "mad_score"
   ]
  },
  {
   "cell_type": "markdown",
   "metadata": {},
   "source": [
    "We can also do it manually with the following code, the result is the same."
   ]
  },
  {
   "cell_type": "code",
   "execution_count": 12,
   "metadata": {},
   "outputs": [
    {
     "data": {
      "text/plain": [
       "4.199999999999999"
      ]
     },
     "execution_count": 12,
     "metadata": {},
     "output_type": "execute_result"
    }
   ],
   "source": [
    "# Find the median\n",
    "median = taxis['total'].median()\n",
    "\n",
    "# Find the absolute value of differences between the median and each data point\n",
    "abs_diffs = (taxis['total'] - median).abs()\n",
    "\n",
    "# Take the median of differences\n",
    "mad_score = abs_diffs.median()\n",
    "mad_score"
   ]
  },
  {
   "cell_type": "markdown",
   "metadata": {},
   "source": [
    "However, this formula is already implemented as the MAD estimator in the PyOD library, so there is no need to perform the above calculation. We can use it as follows:"
   ]
  },
  {
   "cell_type": "code",
   "execution_count": 13,
   "metadata": {},
   "outputs": [
    {
     "data": {
      "text/plain": [
       "array([0, 0, 0, ..., 0, 0, 0])"
      ]
     },
     "execution_count": 13,
     "metadata": {},
     "output_type": "execute_result"
    }
   ],
   "source": [
    "# Import MAD estimator\n",
    "from pyod.models.mad import MAD\n",
    "\n",
    "# Set threshold to 3.5\n",
    "mad = MAD(threshold = 3.5)\n",
    "\n",
    "# Convert the 'total' column into a 2D numpy array\n",
    "total_reshaped = taxis['total'].values.reshape(-1, 1)\n",
    "\n",
    "# Generate inline and outlier labels\n",
    "labels = mad.fit(total_reshaped).labels_\n",
    "labels"
   ]
  },
  {
   "cell_type": "code",
   "execution_count": 14,
   "metadata": {},
   "outputs": [
    {
     "name": "stdout",
     "output_type": "stream",
     "text": [
      "Number of outliers: 560\n"
     ]
    }
   ],
   "source": [
    "# Obtain number of outliers\n",
    "print(f'Number of outliers: {labels.sum()}')"
   ]
  },
  {
   "cell_type": "code",
   "execution_count": 15,
   "metadata": {},
   "outputs": [
    {
     "data": {
      "text/html": [
       "<div>\n",
       "<style scoped>\n",
       "    .dataframe tbody tr th:only-of-type {\n",
       "        vertical-align: middle;\n",
       "    }\n",
       "\n",
       "    .dataframe tbody tr th {\n",
       "        vertical-align: top;\n",
       "    }\n",
       "\n",
       "    .dataframe thead th {\n",
       "        text-align: right;\n",
       "    }\n",
       "</style>\n",
       "<table border=\"1\" class=\"dataframe\">\n",
       "  <thead>\n",
       "    <tr style=\"text-align: right;\">\n",
       "      <th></th>\n",
       "      <th>pickup</th>\n",
       "      <th>dropoff</th>\n",
       "      <th>passengers</th>\n",
       "      <th>distance</th>\n",
       "      <th>fare</th>\n",
       "      <th>tip</th>\n",
       "      <th>tolls</th>\n",
       "      <th>total</th>\n",
       "      <th>color</th>\n",
       "      <th>payment</th>\n",
       "      <th>pickup_zone</th>\n",
       "      <th>dropoff_zone</th>\n",
       "      <th>pickup_borough</th>\n",
       "      <th>dropoff_borough</th>\n",
       "    </tr>\n",
       "  </thead>\n",
       "  <tbody>\n",
       "    <tr>\n",
       "      <th>3</th>\n",
       "      <td>2019-03-10 01:23:59</td>\n",
       "      <td>2019-03-10 01:49:51</td>\n",
       "      <td>1</td>\n",
       "      <td>7.70</td>\n",
       "      <td>27.0</td>\n",
       "      <td>6.15</td>\n",
       "      <td>0.00</td>\n",
       "      <td>36.95</td>\n",
       "      <td>yellow</td>\n",
       "      <td>credit card</td>\n",
       "      <td>Hudson Sq</td>\n",
       "      <td>Yorkville West</td>\n",
       "      <td>Manhattan</td>\n",
       "      <td>Manhattan</td>\n",
       "    </tr>\n",
       "    <tr>\n",
       "      <th>22</th>\n",
       "      <td>2019-03-28 17:20:54</td>\n",
       "      <td>2019-03-28 17:55:57</td>\n",
       "      <td>1</td>\n",
       "      <td>9.82</td>\n",
       "      <td>31.5</td>\n",
       "      <td>8.31</td>\n",
       "      <td>5.76</td>\n",
       "      <td>49.87</td>\n",
       "      <td>yellow</td>\n",
       "      <td>credit card</td>\n",
       "      <td>LaGuardia Airport</td>\n",
       "      <td>Sutton Place/Turtle Bay North</td>\n",
       "      <td>Queens</td>\n",
       "      <td>Manhattan</td>\n",
       "    </tr>\n",
       "    <tr>\n",
       "      <th>40</th>\n",
       "      <td>2019-03-07 15:15:46</td>\n",
       "      <td>2019-03-07 15:50:14</td>\n",
       "      <td>1</td>\n",
       "      <td>7.51</td>\n",
       "      <td>27.0</td>\n",
       "      <td>6.06</td>\n",
       "      <td>0.00</td>\n",
       "      <td>36.36</td>\n",
       "      <td>yellow</td>\n",
       "      <td>credit card</td>\n",
       "      <td>Flatiron</td>\n",
       "      <td>Carroll Gardens</td>\n",
       "      <td>Manhattan</td>\n",
       "      <td>Brooklyn</td>\n",
       "    </tr>\n",
       "    <tr>\n",
       "      <th>42</th>\n",
       "      <td>2019-03-30 23:59:14</td>\n",
       "      <td>2019-03-30 23:59:17</td>\n",
       "      <td>1</td>\n",
       "      <td>0.00</td>\n",
       "      <td>80.0</td>\n",
       "      <td>20.08</td>\n",
       "      <td>0.00</td>\n",
       "      <td>100.38</td>\n",
       "      <td>yellow</td>\n",
       "      <td>credit card</td>\n",
       "      <td>NaN</td>\n",
       "      <td>NaN</td>\n",
       "      <td>NaN</td>\n",
       "      <td>NaN</td>\n",
       "    </tr>\n",
       "    <tr>\n",
       "      <th>53</th>\n",
       "      <td>2019-03-20 18:49:24</td>\n",
       "      <td>2019-03-20 19:12:40</td>\n",
       "      <td>1</td>\n",
       "      <td>13.45</td>\n",
       "      <td>36.0</td>\n",
       "      <td>0.00</td>\n",
       "      <td>0.00</td>\n",
       "      <td>37.80</td>\n",
       "      <td>yellow</td>\n",
       "      <td>cash</td>\n",
       "      <td>JFK Airport</td>\n",
       "      <td>Sunnyside</td>\n",
       "      <td>Queens</td>\n",
       "      <td>Queens</td>\n",
       "    </tr>\n",
       "  </tbody>\n",
       "</table>\n",
       "</div>"
      ],
      "text/plain": [
       "                pickup             dropoff  passengers  distance  fare    tip  \\\n",
       "3  2019-03-10 01:23:59 2019-03-10 01:49:51           1      7.70  27.0   6.15   \n",
       "22 2019-03-28 17:20:54 2019-03-28 17:55:57           1      9.82  31.5   8.31   \n",
       "40 2019-03-07 15:15:46 2019-03-07 15:50:14           1      7.51  27.0   6.06   \n",
       "42 2019-03-30 23:59:14 2019-03-30 23:59:17           1      0.00  80.0  20.08   \n",
       "53 2019-03-20 18:49:24 2019-03-20 19:12:40           1     13.45  36.0   0.00   \n",
       "\n",
       "    tolls   total   color      payment        pickup_zone  \\\n",
       "3    0.00   36.95  yellow  credit card          Hudson Sq   \n",
       "22   5.76   49.87  yellow  credit card  LaGuardia Airport   \n",
       "40   0.00   36.36  yellow  credit card           Flatiron   \n",
       "42   0.00  100.38  yellow  credit card                NaN   \n",
       "53   0.00   37.80  yellow         cash        JFK Airport   \n",
       "\n",
       "                     dropoff_zone pickup_borough dropoff_borough  \n",
       "3                  Yorkville West      Manhattan       Manhattan  \n",
       "22  Sutton Place/Turtle Bay North         Queens       Manhattan  \n",
       "40                Carroll Gardens      Manhattan        Brooklyn  \n",
       "42                            NaN            NaN             NaN  \n",
       "53                      Sunnyside         Queens          Queens  "
      ]
     },
     "execution_count": 15,
     "metadata": {},
     "output_type": "execute_result"
    }
   ],
   "source": [
    "outliers = taxis[labels == 1]\n",
    "outliers.head()"
   ]
  },
  {
   "cell_type": "markdown",
   "metadata": {},
   "source": [
    "## IQR"
   ]
  },
  {
   "cell_type": "code",
   "execution_count": 16,
   "metadata": {},
   "outputs": [
    {
     "data": {
      "text/html": [
       "<div>\n",
       "<style scoped>\n",
       "    .dataframe tbody tr th:only-of-type {\n",
       "        vertical-align: middle;\n",
       "    }\n",
       "\n",
       "    .dataframe tbody tr th {\n",
       "        vertical-align: top;\n",
       "    }\n",
       "\n",
       "    .dataframe thead th {\n",
       "        text-align: right;\n",
       "    }\n",
       "</style>\n",
       "<table border=\"1\" class=\"dataframe\">\n",
       "  <thead>\n",
       "    <tr style=\"text-align: right;\">\n",
       "      <th></th>\n",
       "      <th>pickup</th>\n",
       "      <th>dropoff</th>\n",
       "      <th>passengers</th>\n",
       "      <th>distance</th>\n",
       "      <th>fare</th>\n",
       "      <th>tip</th>\n",
       "      <th>tolls</th>\n",
       "      <th>total</th>\n",
       "      <th>color</th>\n",
       "      <th>payment</th>\n",
       "      <th>pickup_zone</th>\n",
       "      <th>dropoff_zone</th>\n",
       "      <th>pickup_borough</th>\n",
       "      <th>dropoff_borough</th>\n",
       "    </tr>\n",
       "  </thead>\n",
       "  <tbody>\n",
       "    <tr>\n",
       "      <th>3</th>\n",
       "      <td>2019-03-10 01:23:59</td>\n",
       "      <td>2019-03-10 01:49:51</td>\n",
       "      <td>1</td>\n",
       "      <td>7.70</td>\n",
       "      <td>27.0</td>\n",
       "      <td>6.15</td>\n",
       "      <td>0.00</td>\n",
       "      <td>36.95</td>\n",
       "      <td>yellow</td>\n",
       "      <td>credit card</td>\n",
       "      <td>Hudson Sq</td>\n",
       "      <td>Yorkville West</td>\n",
       "      <td>Manhattan</td>\n",
       "      <td>Manhattan</td>\n",
       "    </tr>\n",
       "    <tr>\n",
       "      <th>22</th>\n",
       "      <td>2019-03-28 17:20:54</td>\n",
       "      <td>2019-03-28 17:55:57</td>\n",
       "      <td>1</td>\n",
       "      <td>9.82</td>\n",
       "      <td>31.5</td>\n",
       "      <td>8.31</td>\n",
       "      <td>5.76</td>\n",
       "      <td>49.87</td>\n",
       "      <td>yellow</td>\n",
       "      <td>credit card</td>\n",
       "      <td>LaGuardia Airport</td>\n",
       "      <td>Sutton Place/Turtle Bay North</td>\n",
       "      <td>Queens</td>\n",
       "      <td>Manhattan</td>\n",
       "    </tr>\n",
       "    <tr>\n",
       "      <th>40</th>\n",
       "      <td>2019-03-07 15:15:46</td>\n",
       "      <td>2019-03-07 15:50:14</td>\n",
       "      <td>1</td>\n",
       "      <td>7.51</td>\n",
       "      <td>27.0</td>\n",
       "      <td>6.06</td>\n",
       "      <td>0.00</td>\n",
       "      <td>36.36</td>\n",
       "      <td>yellow</td>\n",
       "      <td>credit card</td>\n",
       "      <td>Flatiron</td>\n",
       "      <td>Carroll Gardens</td>\n",
       "      <td>Manhattan</td>\n",
       "      <td>Brooklyn</td>\n",
       "    </tr>\n",
       "    <tr>\n",
       "      <th>42</th>\n",
       "      <td>2019-03-30 23:59:14</td>\n",
       "      <td>2019-03-30 23:59:17</td>\n",
       "      <td>1</td>\n",
       "      <td>0.00</td>\n",
       "      <td>80.0</td>\n",
       "      <td>20.08</td>\n",
       "      <td>0.00</td>\n",
       "      <td>100.38</td>\n",
       "      <td>yellow</td>\n",
       "      <td>credit card</td>\n",
       "      <td>NaN</td>\n",
       "      <td>NaN</td>\n",
       "      <td>NaN</td>\n",
       "      <td>NaN</td>\n",
       "    </tr>\n",
       "    <tr>\n",
       "      <th>43</th>\n",
       "      <td>2019-03-27 19:39:16</td>\n",
       "      <td>2019-03-27 20:00:26</td>\n",
       "      <td>1</td>\n",
       "      <td>9.50</td>\n",
       "      <td>28.0</td>\n",
       "      <td>0.00</td>\n",
       "      <td>5.76</td>\n",
       "      <td>35.06</td>\n",
       "      <td>yellow</td>\n",
       "      <td>cash</td>\n",
       "      <td>LaGuardia Airport</td>\n",
       "      <td>Washington Heights South</td>\n",
       "      <td>Queens</td>\n",
       "      <td>Manhattan</td>\n",
       "    </tr>\n",
       "  </tbody>\n",
       "</table>\n",
       "</div>"
      ],
      "text/plain": [
       "                pickup             dropoff  passengers  distance  fare    tip  \\\n",
       "3  2019-03-10 01:23:59 2019-03-10 01:49:51           1      7.70  27.0   6.15   \n",
       "22 2019-03-28 17:20:54 2019-03-28 17:55:57           1      9.82  31.5   8.31   \n",
       "40 2019-03-07 15:15:46 2019-03-07 15:50:14           1      7.51  27.0   6.06   \n",
       "42 2019-03-30 23:59:14 2019-03-30 23:59:17           1      0.00  80.0  20.08   \n",
       "43 2019-03-27 19:39:16 2019-03-27 20:00:26           1      9.50  28.0   0.00   \n",
       "\n",
       "    tolls   total   color      payment        pickup_zone  \\\n",
       "3    0.00   36.95  yellow  credit card          Hudson Sq   \n",
       "22   5.76   49.87  yellow  credit card  LaGuardia Airport   \n",
       "40   0.00   36.36  yellow  credit card           Flatiron   \n",
       "42   0.00  100.38  yellow  credit card                NaN   \n",
       "43   5.76   35.06  yellow         cash  LaGuardia Airport   \n",
       "\n",
       "                     dropoff_zone pickup_borough dropoff_borough  \n",
       "3                  Yorkville West      Manhattan       Manhattan  \n",
       "22  Sutton Place/Turtle Bay North         Queens       Manhattan  \n",
       "40                Carroll Gardens      Manhattan        Brooklyn  \n",
       "42                            NaN            NaN             NaN  \n",
       "43       Washington Heights South         Queens       Manhattan  "
      ]
     },
     "execution_count": 16,
     "metadata": {},
     "output_type": "execute_result"
    }
   ],
   "source": [
    "# Calculate the percentiles\n",
    "seventy_fifth = taxis['total'].quantile(0.75)\n",
    "twenty_fifth = taxis['total'].quantile(0.25)\n",
    "\n",
    "# Obtain IQR\n",
    "iqr = seventy_fifth - twenty_fifth\n",
    "\n",
    "# Upper and lower thresholds\n",
    "upper = seventy_fifth + (1.5 * iqr)\n",
    "lower = twenty_fifth - (1.5 * iqr)\n",
    "\n",
    "# Subset the dataset \n",
    "outliers = taxis[(taxis['total'] < lower) | (taxis['total'] > upper)]\n",
    "outliers.head()"
   ]
  },
  {
   "cell_type": "code",
   "execution_count": 17,
   "metadata": {},
   "outputs": [
    {
     "name": "stdout",
     "output_type": "stream",
     "text": [
      "Number of outliers: 600\n"
     ]
    }
   ],
   "source": [
    "# Obtain number of outliers\n",
    "print(f'Number of outliers: {len(outliers)}')"
   ]
  },
  {
   "cell_type": "markdown",
   "metadata": {},
   "source": [
    "# How to treat outliers"
   ]
  },
  {
   "cell_type": "markdown",
   "metadata": {},
   "source": [
    "## Remove"
   ]
  },
  {
   "cell_type": "code",
   "execution_count": 18,
   "metadata": {},
   "outputs": [],
   "source": [
    "taxis_filtered = taxis.copy()\n",
    "taxis_filtered = taxis_filtered[labels == 0]"
   ]
  },
  {
   "cell_type": "markdown",
   "metadata": {},
   "source": [
    "## Imputation"
   ]
  },
  {
   "cell_type": "code",
   "execution_count": 20,
   "metadata": {},
   "outputs": [],
   "source": [
    "# Calculate the median\n",
    "median_value = taxis['total'].median()\n",
    "\n",
    "# Impute outliers with the median\n",
    "taxis_imputed = taxis.copy()\n",
    "taxis_imputed.loc[outliers.index, 'total'] = median_value"
   ]
  },
  {
   "cell_type": "markdown",
   "metadata": {},
   "source": [
    "## Winsorization"
   ]
  },
  {
   "cell_type": "code",
   "execution_count": 22,
   "metadata": {},
   "outputs": [],
   "source": [
    "from scipy.stats.mstats import winsorize\n",
    "\n",
    "taxis_winsorized = taxis.copy()\n",
    "taxis_winsorized['Total'] = winsorize(taxis_winsorized['total'], limits = [0.05, 0.05], inplace = True)"
   ]
  },
  {
   "cell_type": "code",
   "execution_count": 23,
   "metadata": {},
   "outputs": [
    {
     "data": {
      "image/png": "[encoded data removed]",
      "text/plain": [
       "<Figure size 600x400 with 2 Axes>"
      ]
     },
     "metadata": {},
     "output_type": "display_data"
    }
   ],
   "source": [
    "# Create a fig and axis for a 2x1 grid\n",
    "\n",
    "fig, axes = plt.subplots(2, 1, figsize = (6, 4))\n",
    "\n",
    "#  Create a box plot before and after winsorization\n",
    "sns.boxplot(data = taxis, x = 'total', ax = axes[0])\n",
    "sns.boxplot(data = taxis_winsorized, x = 'total', ax = axes[1])\n",
    "\n",
    "# Add labels and titles to each plot\n",
    "axes[0].set_title('Box plot before winsorization')\n",
    "axes[1].set_title('Box plot after winsorization')\n",
    "\n",
    "plt.tight_layout()"
   ]
  }
 ],
 "metadata": {
  "kernelspec": {
   "display_name": "Python 3",
   "language": "python",
   "name": "python3"
  },
  "language_info": {
   "codemirror_mode": {
    "name": "ipython",
    "version": 3
   },
   "file_extension": ".py",
   "mimetype": "text/x-python",
   "name": "python",
   "nbconvert_exporter": "python",
   "pygments_lexer": "ipython3",
   "version": "3.11.5"
  },
  "orig_nbformat": 4
 },
 "nbformat": 4,
 "nbformat_minor": 2
}
